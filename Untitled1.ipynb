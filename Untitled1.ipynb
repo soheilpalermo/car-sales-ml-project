{
 "cells": [
  {
   "cell_type": "code",
   "execution_count": null,
   "id": "280dc56b-e573-40dd-95b7-a0c0275b4dc7",
   "metadata": {},
   "outputs": [
    {
     "name": "stdout",
     "output_type": "stream",
     "text": [
      "Car Assistant: Ready (type 'quit' to exit)\n"
     ]
    },
    {
     "name": "stdin",
     "output_type": "stream",
     "text": [
      "You:  find me an electric car\n"
     ]
    },
    {
     "name": "stdout",
     "output_type": "stream",
     "text": [
      "Assistant: Recommendations:\n",
      "\n",
      "Toyota Corolla 2017\n",
      "Price: $31,990\n",
      "Fuel: Premium Unleaded/Electric\n",
      "Kilometers: 35,359\n",
      "\n",
      "Toyota RAV4 2019\n",
      "Price: $50,990\n",
      "Fuel: Unleaded Petrol/Electric\n",
      "Kilometers: 17,400\n",
      "\n",
      "Toyota Camry 2016\n",
      "Price: $28,800\n",
      "Fuel: Unleaded Petrol/Electric\n",
      "Kilometers: 86,000\n",
      "\n"
     ]
    }
   ],
   "source": [
    "import nltk\n",
    "from nltk.tokenize import word_tokenize\n",
    "from nltk.corpus import stopwords\n",
    "from nltk.stem import WordNetLemmatizer\n",
    "import pandas as pd\n",
    "import os\n",
    "\n",
    "class CarChatbot:\n",
    "   def __init__(self):\n",
    "       # Initialize NLP tools\n",
    "       self.lemmatizer = WordNetLemmatizer()\n",
    "       self.stop_words = set(stopwords.words('english'))\n",
    "\n",
    "       # Load data\n",
    "       desktop = os.path.expanduser(\"~/Desktop\")\n",
    "       self.df = pd.read_csv(os.path.join(desktop, \"final project\", \"cars_info.csv\"))\n",
    "\n",
    "   def process_text(self, text):\n",
    "       tokens = word_tokenize(text.lower())\n",
    "       tokens = [self.lemmatizer.lemmatize(t) for t in tokens if t not in self.stop_words]\n",
    "       return tokens\n",
    "\n",
    "   def get_intent(self, tokens):\n",
    "       intents = {\n",
    "           'price': ['price', 'cost', 'expensive', 'cheap'],\n",
    "           'brand': ['brand', 'make', 'company'],\n",
    "           'search': ['find', 'show', 'search', 'looking']\n",
    "       }\n",
    "       \n",
    "       for intent, keywords in intents.items():\n",
    "           if any(word in tokens for word in keywords):\n",
    "               return intent\n",
    "       return 'unknown'\n",
    "\n",
    "   def handle_query(self, query):\n",
    "       tokens = self.process_text(query)\n",
    "       intent = self.get_intent(tokens)\n",
    "\n",
    "       if intent == 'brand':\n",
    "           brands = sorted(self.df['Brand'].unique())\n",
    "           return \"Available brands:\\n\" + \"\\n\".join(brands)\n",
    "\n",
    "       elif intent == 'price':\n",
    "           for brand in self.df['Brand'].unique():\n",
    "               if brand.lower() in query.lower():\n",
    "                   cars = self.df[self.df['Brand'] == brand]\n",
    "                   return f\"{brand} range: ${cars['Price'].min():,} to ${cars['Price'].max():,}\\nAverage: ${cars['Price'].mean():,.0f}\"\n",
    "\n",
    "       elif intent == 'search':\n",
    "           filtered = self.df.copy()\n",
    "           \n",
    "           if any(word in tokens for word in ['budget', 'cheap']):\n",
    "               filtered = filtered[filtered['Price'] <= 30000]\n",
    "           elif any(word in tokens for word in ['luxury', 'expensive']):\n",
    "               filtered = filtered[filtered['Price'] >= 80000]\n",
    "\n",
    "           if 'hybrid' in tokens or 'electric' in tokens:\n",
    "               filtered = filtered[filtered['Fuel'].str.contains('Electric', na=False)]\n",
    "           elif 'diesel' in tokens:\n",
    "               filtered = filtered[filtered['Fuel'].str.contains('Diesel', na=False)]\n",
    "\n",
    "           if len(filtered) == 0:\n",
    "               return \"No matches found.\"\n",
    "\n",
    "           results = \"Recommendations:\\n\"\n",
    "           for _, car in filtered.head(3).iterrows():\n",
    "               results += f\"\\n{car['Brand']} {car['Model']} {car['Year']}\"\n",
    "               results += f\"\\nPrice: ${car['Price']:,}\"\n",
    "               results += f\"\\nFuel: {car['Fuel']}\"\n",
    "               results += f\"\\nKilometers: {car['Kilometers']:,}\\n\"\n",
    "           return results\n",
    "\n",
    "       return \"Try:\\n- View brands\\n- Check prices\\n- Find cars by criteria\"\n",
    "\n",
    "def main():\n",
    "   try:\n",
    "       bot = CarChatbot()\n",
    "       print(\"Car Assistant: Ready (type 'quit' to exit)\")\n",
    "       \n",
    "       while True:\n",
    "           query = input(\"You: \").strip()\n",
    "           if query.lower() == 'quit':\n",
    "               break\n",
    "           print(\"Assistant:\", bot.handle_query(query))\n",
    "\n",
    "   except Exception as e:\n",
    "       print(f\"Error: {e}\")\n",
    "\n",
    "if __name__ == \"__main__\":\n",
    "   main()"
   ]
  },
  {
   "cell_type": "code",
   "execution_count": null,
   "id": "87c40716-6c95-46b5-bd13-30ed11cdf5d3",
   "metadata": {},
   "outputs": [],
   "source": []
  },
  {
   "cell_type": "code",
   "execution_count": null,
   "id": "061084b5-a7ea-4d78-8476-9388fe1e8714",
   "metadata": {},
   "outputs": [],
   "source": []
  }
 ],
 "metadata": {
  "kernelspec": {
   "display_name": "Python 3 (ipykernel)",
   "language": "python",
   "name": "python3"
  },
  "language_info": {
   "codemirror_mode": {
    "name": "ipython",
    "version": 3
   },
   "file_extension": ".py",
   "mimetype": "text/x-python",
   "name": "python",
   "nbconvert_exporter": "python",
   "pygments_lexer": "ipython3",
   "version": "3.10.14"
  }
 },
 "nbformat": 4,
 "nbformat_minor": 5
}
