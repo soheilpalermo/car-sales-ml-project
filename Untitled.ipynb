{
 "cells": [
  {
   "cell_type": "code",
   "execution_count": null,
   "id": "b9fce2dc-0d80-4d98-bd6d-574abc20b16e",
   "metadata": {},
   "outputs": [
    {
     "name": "stdout",
     "output_type": "stream",
     "text": [
      "Car Assistant: Hello! How can I help? (type 'quit' to exit)\n"
     ]
    },
    {
     "name": "stdin",
     "output_type": "stream",
     "text": [
      "You:  find me a electric car\n"
     ]
    },
    {
     "name": "stdout",
     "output_type": "stream",
     "text": [
      "Car Assistant: Here are some recommendations:\n",
      "Toyota Rukus 2010\n",
      "Price: $9,999\n",
      "Fuel: Unleaded Petrol\n",
      "Kilometers: 263,000\n",
      "\n",
      "Mercedes-Benz V 2021\n",
      "Price: $117,990\n",
      "Fuel: Diesel\n",
      "Kilometers: 19\n",
      "\n",
      "Mercedes-Benz Valente 2021\n",
      "Price: $79,990\n",
      "Fuel: Diesel\n",
      "Kilometers: 24\n",
      "\n"
     ]
    },
    {
     "name": "stdin",
     "output_type": "stream",
     "text": [
      "You:  find me a luxury car\n"
     ]
    },
    {
     "name": "stdout",
     "output_type": "stream",
     "text": [
      "Car Assistant: Here are some recommendations:\n",
      "Mercedes-Benz V 2021\n",
      "Price: $117,990\n",
      "Fuel: Diesel\n",
      "Kilometers: 19\n",
      "\n",
      "Toyota Landcruiser 2018\n",
      "Price: $81,990\n",
      "Fuel: Diesel\n",
      "Kilometers: 108,293\n",
      "\n",
      "Toyota Landcruiser 2020\n",
      "Price: $119,985\n",
      "Fuel: Diesel\n",
      "Kilometers: 50,943\n",
      "\n"
     ]
    },
    {
     "name": "stdin",
     "output_type": "stream",
     "text": [
      "You:  find me a hybrid car\n"
     ]
    },
    {
     "name": "stdout",
     "output_type": "stream",
     "text": [
      "Car Assistant: Here are some recommendations:\n",
      "Toyota Corolla 2017\n",
      "Price: $31,990\n",
      "Fuel: Premium Unleaded/Electric\n",
      "Kilometers: 35,359\n",
      "\n",
      "Toyota RAV4 2019\n",
      "Price: $50,990\n",
      "Fuel: Unleaded Petrol/Electric\n",
      "Kilometers: 17,400\n",
      "\n",
      "Toyota Camry 2016\n",
      "Price: $28,800\n",
      "Fuel: Unleaded Petrol/Electric\n",
      "Kilometers: 86,000\n",
      "\n"
     ]
    }
   ],
   "source": [
    "import pandas as pd\n",
    "import os\n",
    "\n",
    "class CarChatbot:\n",
    "   def __init__(self):\n",
    "       # Setup file path\n",
    "       desktop = os.path.expanduser(\"~/Desktop\")\n",
    "       self.df = pd.read_csv(os.path.join(desktop, \"final project\", \"cars_info.csv\"))\n",
    "\n",
    "   def process_query(self, query):\n",
    "       query = query.lower()\n",
    "       \n",
    "       # Show brands\n",
    "       if 'brands' in query or 'available' in query:\n",
    "           brands = sorted(self.df['Brand'].unique())\n",
    "           return \"Available brands:\\n\" + \"\\n\".join(brands)\n",
    "           \n",
    "       # Price range for specific brand\n",
    "       if 'price' in query:\n",
    "           for brand in self.df['Brand'].unique():\n",
    "               if brand.lower() in query:\n",
    "                   cars = self.df[self.df['Brand'] == brand]\n",
    "                   return (f\"{brand} vehicles range from ${cars['Price'].min():,} \"\n",
    "                          f\"to ${cars['Price'].max():,}, with an average \"\n",
    "                          f\"price of ${cars['Price'].mean():,.0f}\")\n",
    "                          \n",
    "       # Find cars matching criteria  \n",
    "       if 'find' in query or 'show' in query:\n",
    "           filtered = self.df.copy()\n",
    "           \n",
    "           # Apply filters\n",
    "           if 'budget' in query:\n",
    "               filtered = filtered[filtered['Price'] <= 30000]\n",
    "           elif 'luxury' in query:\n",
    "               filtered = filtered[filtered['Price'] >= 80000]\n",
    "               \n",
    "           if 'hybrid' in query:\n",
    "               filtered = filtered[filtered['Fuel'].str.contains('Electric', na=False)]\n",
    "               \n",
    "           if len(filtered) == 0:\n",
    "               return \"No matches found.\"\n",
    "               \n",
    "           # Format results\n",
    "           results = \"\"\n",
    "           for _, car in filtered.head(3).iterrows():\n",
    "               results += f\"\\n{car['Brand']} {car['Model']} {car['Year']}\\n\"\n",
    "               results += f\"Price: ${car['Price']:,}\\n\"\n",
    "               results += f\"Fuel: {car['Fuel']}\\n\"\n",
    "               results += f\"Kilometers: {car['Kilometers']:,}\\n\"\n",
    "           \n",
    "           return \"Here are some recommendations:\" + results\n",
    "\n",
    "       return \"How can I help? You can:\\n1. View available brands\\n2. Check price ranges\\n3. Find cars by criteria\"\n",
    "\n",
    "def main():\n",
    "   bot = CarChatbot()\n",
    "   print(\"Car Assistant: Hello! How can I help? (type 'quit' to exit)\")\n",
    "   \n",
    "   while True:\n",
    "       user_input = input(\"You: \").strip()\n",
    "       if user_input.lower() == 'quit':\n",
    "           break\n",
    "       response = bot.process_query(user_input)\n",
    "       print(\"Car Assistant:\", response)\n",
    "\n",
    "if __name__ == \"__main__\":\n",
    "   main()"
   ]
  },
  {
   "cell_type": "code",
   "execution_count": null,
   "id": "f7a9ee3e-631f-4bd8-8583-f3e13a3f8866",
   "metadata": {},
   "outputs": [],
   "source": []
  }
 ],
 "metadata": {
  "kernelspec": {
   "display_name": "Python 3 (ipykernel)",
   "language": "python",
   "name": "python3"
  },
  "language_info": {
   "codemirror_mode": {
    "name": "ipython",
    "version": 3
   },
   "file_extension": ".py",
   "mimetype": "text/x-python",
   "name": "python",
   "nbconvert_exporter": "python",
   "pygments_lexer": "ipython3",
   "version": "3.10.14"
  }
 },
 "nbformat": 4,
 "nbformat_minor": 5
}
